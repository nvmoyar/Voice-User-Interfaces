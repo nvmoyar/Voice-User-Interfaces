{
 "cells": [
  {
   "cell_type": "markdown",
   "metadata": {},
   "source": [
    "# Lab Voice Data\n",
    "\n",
    "The purpose of this lab is to gain familiarity with speech data you might use to train an Automatic Speech Recognition (ASR) system. In the following steps, you'll:\n",
    "\n",
    "* Explore the LibriSpeech data set and format\n",
    "* Create your own audio files\n",
    "* Build your own audio data set\n",
    "\n",
    "## Exploration of LibriSpeech Corpus \n",
    "\n",
    "LibriSpeech is a corpus of approximately 1000 hours of 16kHz read English speech, prepared by Vassil Panayotov with the assistance of Daniel Povey. The data is derived from read audiobooks from the LibriVox project, and has been carefully segmented and aligned. This is a free data set of English sentences matched with audio files. With over 1000 hours of public domain book content, it is appropriate for ASR training.\n",
    "\n",
    "[http://www.openslr.org/12/] "
   ]
  },
  {
   "cell_type": "code",
   "execution_count": 5,
   "metadata": {
    "collapsed": false
   },
   "outputs": [
    {
     "name": "stdout",
     "output_type": "stream",
     "text": [
      "total 1864\r\n",
      "drwxr-xr-x@  9 x17  staff     306  7 Mar 15:08 \u001b[34m.\u001b[m\u001b[m/\r\n",
      "drwxr-xr-x@ 11 x17  staff     374  7 Mar 15:08 \u001b[34m..\u001b[m\u001b[m/\r\n",
      "-rw-r--r--@  1 x17  staff    6148  7 Mar 15:11 .DS_Store\r\n",
      "-rwxr-xr-x@  1 x17  staff  117314  3 Oct  2014 \u001b[31mBOOKS.TXT\u001b[m\u001b[m*\r\n",
      "-rwxr-xr-x@  1 x17  staff  676931 17 Aug  2014 \u001b[31mCHAPTERS.TXT\u001b[m\u001b[m*\r\n",
      "-rwxr-xr-x@  1 x17  staff     199 17 Aug  2014 \u001b[31mLICENSE.TXT\u001b[m\u001b[m*\r\n",
      "-rwxr-xr-x@  1 x17  staff    8217  3 Oct  2014 \u001b[31mREADME.TXT\u001b[m\u001b[m*\r\n",
      "-rwxr-xr-x   1 x17  staff  127530 17 Aug  2014 \u001b[31mSPEAKERS.TXT\u001b[m\u001b[m*\r\n",
      "drwxr-xr-x@  4 x17  staff     136  7 Mar 15:09 \u001b[34mdev-clean\u001b[m\u001b[m/\r\n"
     ]
    }
   ],
   "source": [
    "ls -la"
   ]
  },
  {
   "cell_type": "code",
   "execution_count": 7,
   "metadata": {
    "collapsed": false
   },
   "outputs": [
    {
     "name": "stdout",
     "output_type": "stream",
     "text": [
      "/bin/sh: line 0: cd: LibriSpeech_Samples: No such file or directory\n",
      "total 1864\n",
      "drwxr-xr-x@  9 x17  staff     306  7 Mar 15:08 \u001b[34m.\u001b[m\u001b[m\n",
      "drwxr-xr-x@ 11 x17  staff     374  7 Mar 15:08 \u001b[34m..\u001b[m\u001b[m\n",
      "-rw-r--r--@  1 x17  staff    6148  7 Mar 15:11 .DS_Store\n",
      "-rwxr-xr-x@  1 x17  staff  117314  3 Oct  2014 \u001b[31mBOOKS.TXT\u001b[m\u001b[m\n",
      "-rwxr-xr-x@  1 x17  staff  676931 17 Aug  2014 \u001b[31mCHAPTERS.TXT\u001b[m\u001b[m\n",
      "-rwxr-xr-x@  1 x17  staff     199 17 Aug  2014 \u001b[31mLICENSE.TXT\u001b[m\u001b[m\n",
      "-rwxr-xr-x@  1 x17  staff    8217  3 Oct  2014 \u001b[31mREADME.TXT\u001b[m\u001b[m\n",
      "-rwxr-xr-x   1 x17  staff  127530 17 Aug  2014 \u001b[31mSPEAKERS.TXT\u001b[m\u001b[m\n",
      "drwxr-xr-x@  4 x17  staff     136  7 Mar 15:09 \u001b[34mdev-clean\u001b[m\u001b[m\n"
     ]
    }
   ],
   "source": [
    "!cd LibriSpeech_Samples\n",
    "!ls -la\n",
    "\n",
    "# Lists of books, chapters numbers, speakers text files, \n",
    "# and 'dev-clean' folder, a sample of how the audio files are disposed "
   ]
  },
  {
   "cell_type": "code",
   "execution_count": 14,
   "metadata": {
    "collapsed": false
   },
   "outputs": [
    {
     "name": "stdout",
     "output_type": "stream",
     "text": [
      "/bin/sh: line 0: cd: dev-clean: No such file or directory\n",
      "total 16\n",
      "drwxr-xr-x@ 4 x17  staff   136  7 Mar 15:09 \u001b[34m.\u001b[m\u001b[m\n",
      "drwxr-xr-x@ 9 x17  staff   306  7 Mar 15:08 \u001b[34m..\u001b[m\u001b[m\n",
      "-rw-r--r--@ 1 x17  staff  6148  7 Mar 15:11 .DS_Store\n",
      "drwxr-xr-x@ 4 x17  staff   136  7 Mar 15:09 \u001b[34m1993\u001b[m\u001b[m\n"
     ]
    }
   ],
   "source": [
    "!cd dev-clean\n",
    "!ls -la\n",
    "\n",
    "# 1993 --> name of the speaker"
   ]
  },
  {
   "cell_type": "code",
   "execution_count": 16,
   "metadata": {
    "collapsed": false
   },
   "outputs": [
    {
     "name": "stdout",
     "output_type": "stream",
     "text": [
      "/bin/sh: line 0: cd: 1993: No such file or directory\n",
      "total 16\n",
      "drwxr-xr-x@  4 x17  staff   136  7 Mar 15:09 \u001b[34m.\u001b[m\u001b[m\n",
      "drwxr-xr-x@  4 x17  staff   136  7 Mar 15:09 \u001b[34m..\u001b[m\u001b[m\n",
      "-rw-r--r--@  1 x17  staff  6148  7 Mar 15:11 .DS_Store\n",
      "drwxr-xr-x@ 13 x17  staff   442  7 Mar 15:09 \u001b[34m147965\u001b[m\u001b[m\n"
     ]
    }
   ],
   "source": [
    "!cd 1993\n",
    "!ls -la\n",
    "\n",
    "# 147965 --> chapter number"
   ]
  },
  {
   "cell_type": "markdown",
   "metadata": {},
   "source": [
    "Let's have a look to the chapters lists. This command will display from line 13th line to 50th of the file. "
   ]
  },
  {
   "cell_type": "code",
   "execution_count": 44,
   "metadata": {
    "collapsed": false
   },
   "outputs": [
    {
     "name": "stdout",
     "output_type": "stream",
     "text": [
      ";\r",
      "\r\n",
      ";ID    |READER|MINUTES| SUBSET           | PROJ.|BOOK ID| CH. TITLE | PROJECT TITLE\r",
      "\r\n",
      "1      | 110  | 19.77 | train-other-500  | 53   | 1023  | In Chancery | Bleak House\r",
      "\r\n",
      "2      | 110  | 10.30 | train-other-500  | 53   | 1023  | In Fashion | Bleak House\r",
      "\r\n",
      "159    | 4174 | 7.67  | train-other-500  | 68   | 2184  | Letter XXV | Unbeaten Tracks in Japan\r",
      "\r\n",
      "198    | 19   | 8.42  | train-clean-100  | 219  | 121   | Chapter 01 | Northanger Abbey\r",
      "\r\n",
      "199    | 98   | 11.68 | train-clean-360  | 219  | 121   | Chapter 02 | Northanger Abbey\r",
      "\r\n",
      "200    | 173  | 11.25 | train-other-500  | 219  | 121   | Chapter 03 | Northanger Abbey\r",
      "\r\n",
      "201    | 44   | 7.57  | train-other-500  | 219  | 121   | Chapter 04 | Northanger Abbey\r",
      "\r\n",
      "204    | 92   | 12.76 | train-other-500  | 219  | 121   | Chapter 07 | Northanger Abbey\r",
      "\r\n",
      "205    | 20   | 12.82 | train-other-500  | 219  | 121   | Chapter 08 | Northanger Abbey\r",
      "\r\n",
      "207    | 44   | 18.33 | train-other-500  | 219  | 121   | Chapter 10 | Northanger Abbey\r",
      "\r\n",
      "208    | 14   | 12.95 | train-clean-360  | 219  | 121   | Chapter 11 | Northanger Abbey\r",
      "\r\n",
      "209    | 198  | 8.20  | train-clean-100  | 219  | 121   | Chapter 12 | Northanger Abbey\r",
      "\r\n",
      "212    | 14   | 12.09 | train-clean-360  | 219  | 121   | Chapter 15 | Northanger Abbey\r",
      "\r\n",
      "214    | 37   | 6.19  | train-other-500  | 219  | 121   | Chapter 17 | Northanger Abbey\r",
      "\r\n",
      "215    | 37   | 8.28  | train-other-500  | 219  | 121   | Chapter 18 | Northanger Abbey\r",
      "\r\n",
      "216    | 403  | 6.30  | train-clean-100  | 219  | 121   | Chapter 19 | Northanger Abbey\r",
      "\r\n",
      "218    | 89   | 12.78 | train-clean-100  | 219  | 121   | Chapter 21 | Northanger Abbey\r",
      "\r\n",
      "219    | 89   | 12.30 | train-clean-100  | 219  | 121   | Chapter 22 | Northanger Abbey\r",
      "\r\n",
      "222    | 40   | 15.59 | train-clean-100  | 219  | 121   | Chapter 25 | Northanger Abbey\r",
      "\r\n",
      "224    | 246  | 7.56  | train-clean-360  | 219  | 121   | Chapter 27 | Northanger Abbey\r",
      "\r\n",
      "225    | 37   | 15.58 | train-other-500  | 219  | 121   | Chapter 28 | Northanger Abbey\r",
      "\r\n",
      "227    | 19   | 16.77 | train-clean-100  | 219  | 121   | Chapter 30 | Northanger Abbey\r",
      "\r\n",
      "348    | 728  | 30.21 | train-other-500  | 381  | 84    | 00 - Letters | Frankenstein, or The Modern Prometheus\r",
      "\r\n",
      "352    | 166  | 10.65 | train-clean-360  | 381  | 84    | 04 - Chapter 5 | Frankenstein, or The Modern Prometheus\r",
      "\r\n",
      "354    | 66   | 13.84 | train-other-500  | 381  | 84    | 06 - Chapter 7 | Frankenstein, or The Modern Prometheus\r",
      "\r\n",
      "355    | 66   | 16.38 | train-other-500  | 381  | 84    | 07 - Chapter 8 | Frankenstein, or The Modern Prometheus\r",
      "\r\n",
      "358    | 730  | 9.82  | train-clean-100  | 381  | 84    | 10 - Chapter 11 | Frankenstein, or The Modern Prometheus\r",
      "\r\n",
      "359    | 730  | 7.90  | train-clean-100  | 381  | 84    | 11 - Chapter 12 | Frankenstein, or The Modern Prometheus\r",
      "\r\n",
      "360    | 730  | 7.48  | train-clean-100  | 381  | 84    | 12 - Chapter 13 | Frankenstein, or The Modern Prometheus\r",
      "\r\n",
      "362    | 17   | 15.50 | train-clean-360  | 381  | 84    | 14 - Chapter 16 | Frankenstein, or The Modern Prometheus\r",
      "\r\n",
      "363    | 17   | 9.54  | train-clean-360  | 381  | 84    | 15 - Chapter 17 | Frankenstein, or The Modern Prometheus\r",
      "\r\n",
      "365    | 731  | 11.65 | train-clean-360  | 381  | 84    | 17 - Chapter 19 | Frankenstein, or The Modern Prometheus\r",
      "\r\n",
      "366    | 731  | 13.50 | train-clean-360  | 381  | 84    | 18 - Chapter 20 | Frankenstein, or The Modern Prometheus\r",
      "\r\n",
      "368    | 78   | 10.91 | train-clean-100  | 381  | 84    | 20 - Chapter 23 | Frankenstein, or The Modern Prometheus\r",
      "\r\n",
      "369    | 78   | 14.15 | train-clean-100  | 381  | 84    | 21 - Chapter 24 | Frankenstein, or The Modern Prometheus\r",
      "\r\n",
      "395    | 1724 | 25.05 | train-clean-360  | 508  | 5682  | 1 Transition from the common rational knowledge of morality to the philosophical | Fundamental Principles of the Metaphysic of Morals\r",
      "\r\n"
     ]
    }
   ],
   "source": [
    "!sed -n 13,50p CHAPTERS.TXT"
   ]
  },
  {
   "cell_type": "code",
   "execution_count": 45,
   "metadata": {
    "collapsed": false
   },
   "outputs": [
    {
     "name": "stdout",
     "output_type": "stream",
     "text": [
      "147965 | 1993 | 0.95  | dev-clean        | 1592 | 19810 | Book 1 (The Shimerdas), Chapter 12 | My Antonia\r",
      "\r\n"
     ]
    }
   ],
   "source": [
    "!cat CHAPTERS.TXT | grep '147965'"
   ]
  },
  {
   "cell_type": "code",
   "execution_count": 52,
   "metadata": {
    "collapsed": false
   },
   "outputs": [
    {
     "name": "stdout",
     "output_type": "stream",
     "text": [
      "1993-147965-0000 GRANDFATHER CAME DOWN WEARING A WHITE SHIRT AND HIS SUNDAY COAT\r",
      "\r\n",
      "1993-147965-0001 MORNING PRAYERS WERE LONGER THAN USUAL\r",
      "\r\n",
      "1993-147965-0002 HE GAVE THANKS FOR OUR FOOD AND COMFORT AND PRAYED FOR THE POOR AND DESTITUTE IN GREAT CITIES WHERE THE STRUGGLE FOR LIFE WAS HARDER THAN IT WAS HERE WITH US\r",
      "\r\n",
      "1993-147965-0003 BECAUSE HE TALKED SO LITTLE HIS WORDS HAD A PECULIAR FORCE THEY WERE NOT WORN DULL FROM CONSTANT USE\r",
      "\r\n",
      "1993-147965-0004 ALL AFTERNOON HE SAT IN THE DINING ROOM\r",
      "\r\n",
      "1993-147965-0005 AT ABOUT FOUR O'CLOCK A VISITOR APPEARED MISTER SHIMERDA WEARING HIS RABBIT SKIN CAP AND COLLAR AND NEW MITTENS HIS WIFE HAD KNITTED\r",
      "\r\n",
      "1993-147965-0006 HE SAT STILL AND PASSIVE HIS HEAD RESTING AGAINST THE BACK OF THE WOODEN ROCKING CHAIR HIS HANDS RELAXED UPON THE ARMS\r",
      "\r\n",
      "1993-147965-0007 HIS FACE HAD A LOOK OF WEARINESS AND PLEASURE LIKE THAT OF SICK PEOPLE WHEN THEY FEEL RELIEF FROM PAIN\r",
      "\r\n",
      "1993-147965-0008 HE MADE THE SIGN OF THE CROSS OVER ME PUT ON HIS CAP AND WENT OFF IN THE DARK\r",
      "\r\n"
     ]
    }
   ],
   "source": [
    "!cat 1993-147965.trans.txt"
   ]
  },
  {
   "cell_type": "markdown",
   "metadata": {},
   "source": [
    "In this case \n",
    "\n",
    "* The speaker is named Wendy --> 1993\n",
    "* The book that is being read from is \"My Antonia\"\n",
    "* The transcripts have no punctuation other than apostrophes\n",
    "* The transcripts are entirely in upper case\n",
    "\n",
    "## Build your own dataset\n",
    "\n",
    "### Step 0: Generate .wav files\n",
    "\n",
    "Record yourself with [Sonic Visualizer https://www.sonicvisualiser.org] saying some short sentences and get the wav file. Take your time to explore the application and get the spectrogram of your voice. \n",
    "For this part you will need to install pysoundfile if it's not already installed. \n",
    "\n",
    "\n",
    "###  Step1: Convert and structure\n",
    "\n",
    "The .wav files need to be converted from an IEEE-FLOAT format produced by Sonic Visualizer to a lower resolution PCM-16 format required in later processing steps. In addition, the audio files need to named and placed in a structure similar to the LibriSpeech file structure, i.e. sorted and identified by speaker and chapter. We need an arbitrary speaker number and chapter number to do this. A utility convert_flt_pcm.py has been provided for this purpose:"
   ]
  },
  {
   "cell_type": "code",
   "execution_count": 66,
   "metadata": {
    "collapsed": false
   },
   "outputs": [
    {
     "name": "stdout",
     "output_type": "stream",
     "text": [
      "1-12345-0000\n",
      "1-12345-0001\n",
      "1-12345-0002\n",
      "1-12345-0003\n",
      "1-12345-0004\n"
     ]
    }
   ],
   "source": [
    "# pip install pysoundfile  --> If the package is not already installed \n",
    "\n",
    "\n",
    "# usage: convert_flt_pcm.py input_directory output_directory group speaker chapter\n",
    "\n",
    "# positional arguments:\n",
    "#   input_directory  Path to input directory\n",
    "#   data_directory   Path to output data directory\n",
    "#   group            group\n",
    "#   speaker          speaker number\n",
    "#   chapter          chapter number\n",
    "\n",
    "# optional arguments:\n",
    "#   -h, --help       show this help message and exit\n",
    "\n",
    "\n",
    "\n",
    "!python convert_flt_pcm.py audio_samples MySpeech my_dev 1 12345  # you have to indicate a the directory with the samples"
   ]
  },
  {
   "cell_type": "markdown",
   "metadata": {},
   "source": [
    "### Step 2: Add utterances to your transcript file\n",
    "\n",
    "Find your 1-12345.trans.txt file, and add the sentences you have read. Note these will have different ID's if you gave different \"speaker\" and \"chapter\" numbers during the conversion step. ** Add sentences that correspond to your .wav files with the same ID**. The utterances should contain all capital letters and no punctuation except for apostrophes where needed. \n",
    "\n",
    "output: your 1-12345.trans.txt file\n",
    "\n",
    "<br>1-12345-0000\tYET WHEN WE COLLABORATE WE HAVE A TRICKY OFTEN AVOIDED CHARGE TO ASK FOR AND RECEIVE FEEDBACK\n",
    "<br>1-12345-0001\tIT CAN MAXIMIZE EFFICIENCY AND HEAL BROKEN TEAMS\n",
    "<br>1-12345-0002\tFEEDBACK IS ESSENTIAL IT CAN COURSE CORRECT AND ENCOURAGE DEVELOPMENT\n",
    "<br>1-12345-0003\tBEFORE RECEIVING FEEDBACK FROM SOMEONE PREPARE BY WRITING DOWN SPECIFIC QUESTIONS ABOUT THE THINGS YOU MIGHT CHANGE\n",
    "<br>1-12345-0004\tTHIS BOOK WILL MAKE YOU MORE EFFECTIVE AND CONFIDENT GETTING FEEDBACK\n",
    "\n",
    "\n",
    "[SOURCE: How to get and give feedback (A practical guide) SYPartners]\n",
    "\n",
    "\n",
    "###  Step 3: Build your dataset. Create .json file needed for processing\n",
    "\n"
   ]
  },
  {
   "cell_type": "code",
   "execution_count": null,
   "metadata": {
    "collapsed": false
   },
   "outputs": [],
   "source": []
  },
  {
   "cell_type": "code",
   "execution_count": null,
   "metadata": {
    "collapsed": true
   },
   "outputs": [],
   "source": []
  },
  {
   "cell_type": "code",
   "execution_count": null,
   "metadata": {
    "collapsed": true
   },
   "outputs": [],
   "source": []
  },
  {
   "cell_type": "code",
   "execution_count": null,
   "metadata": {
    "collapsed": true
   },
   "outputs": [],
   "source": []
  }
 ],
 "metadata": {
  "kernelspec": {
   "display_name": "Python 3",
   "language": "python",
   "name": "python3"
  },
  "language_info": {
   "codemirror_mode": {
    "name": "ipython",
    "version": 3
   },
   "file_extension": ".py",
   "mimetype": "text/x-python",
   "name": "python",
   "nbconvert_exporter": "python",
   "pygments_lexer": "ipython3",
   "version": "3.5.3"
  }
 },
 "nbformat": 4,
 "nbformat_minor": 2
}
